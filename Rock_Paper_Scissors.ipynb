{
 "cells": [
  {
   "cell_type": "markdown",
   "id": "0831b11e",
   "metadata": {},
   "source": [
    "# Rock_Paper_Scissors Game"
   ]
  },
  {
   "cell_type": "code",
   "execution_count": 1,
   "id": "08398c61",
   "metadata": {},
   "outputs": [],
   "source": [
    "# Importing the random module\n",
    "import random"
   ]
  },
  {
   "cell_type": "code",
   "execution_count": 2,
   "id": "32300016",
   "metadata": {},
   "outputs": [],
   "source": [
    "# Creating class named Rock_Paper_Scissors\n",
    "class Rock_Paper_Scissors:\n",
    "    \n",
    "    \n",
    "    def Game_name():\n",
    "        \n",
    "        # Displaying menu options\n",
    "        game=(\"Rock, Paper, Scissors.\")\n",
    "        print(game)\n",
    "        print('-' * len(game))\n",
    "        \n",
    "    def rules():\n",
    "        \n",
    "        # Displaying Rules of the game\n",
    "        print(\"\\nThe rules are simple:\\nRock beats scissors (rock crushes scissors)\")\n",
    "        print(\"Scissors beats paper (scissors cut paper)\\nPaper beats rock (paper covers rock)\")\n",
    "        \n",
    "    def main_game():\n",
    "        \n",
    "        # Starting the main game loop\n",
    "        e = input(\"Now please start the game to continue (Y/y for Yes) or (N/n for no): \")\n",
    "        g = \"Yy\"    \n",
    "        points = 0  #initialising starting score as 0\n",
    "        choices = {1: \"rock\", 2: \"paper\", 3: \"scissors\"}\n",
    "        print(f\"Your current points are : {points}\")\n",
    "        \n",
    "        # Game continues as long as user input is in 'Yy' by using while loop\n",
    "        while e.lower() in g:\n",
    "            \n",
    "            user = int(input(\"Enter your choice (1 for rock, 2 for paper, or 3 for scissors): \"))\n",
    "            print(f\"Your choice : {choices.get(user)}\")  # Displaying user choice\n",
    "            \n",
    "            #Generating random choice for computer\n",
    "            computer = random.randint(1, 3)\n",
    "            print(f\"Computer's choice : {choices.get(computer)}\")\n",
    "            \n",
    "            if user == computer:\n",
    "                print(f\"It's a tie!\\nYour current points are : {points}\")\n",
    "            \n",
    "            elif(user == 1 and computer == 3) or (user == 2 and computer == 1) or (user == 3 and computer == 2):\n",
    "                points += 1\n",
    "                print(f\"You win!\\nYour current points are : {points}\")\n",
    "                \n",
    "            else:\n",
    "                points -= 1\n",
    "                print(f\"Computer wins!\\nYour current points are : {points}\")\n",
    "\n",
    "            e = input(\"Do you wish to continue again (Y/y for Yes) or (N/n for no): \")\n",
    "            \n",
    "            # For wrong input\n",
    "            while e.lower() not in ['y', 'n']:\n",
    "                print(\"Oops! wrong input, Type (Y/y for Yes) or (N/n for no)\")\n",
    "                e = input(\"Do you wish to continue again (Y/y for Yes) or (N/n for no): \")\n",
    "        \n",
    "        # Game ends when user input is in 'Nn'\n",
    "        else:\n",
    "            print(\"Thank you for playing\")\n",
    "            print(\"Hope you enjoyed!\")\n",
    "            print(\"Your final score is\", points)"
   ]
  },
  {
   "cell_type": "code",
   "execution_count": 3,
   "id": "ca0f0384",
   "metadata": {},
   "outputs": [
    {
     "name": "stdout",
     "output_type": "stream",
     "text": [
      "Rock, Paper, Scissors.\n",
      "----------------------\n",
      "\n",
      "The rules are simple:\n",
      "Rock beats scissors (rock crushes scissors)\n",
      "Scissors beats paper (scissors cut paper)\n",
      "Paper beats rock (paper covers rock)\n",
      "Now please start the game to continue (Y/y for Yes) or (N/n for no): y\n",
      "Your current points are : 0\n",
      "Enter your choice (1 for rock, 2 for paper, or 3 for scissors): 1\n",
      "Your choice : rock\n",
      "Computer's choice : rock\n",
      "It's a tie!\n",
      "Your current points are : 0\n",
      "Do you wish to continue again (Y/y for Yes) or (N/n for no): y\n",
      "Enter your choice (1 for rock, 2 for paper, or 3 for scissors): 2\n",
      "Your choice : paper\n",
      "Computer's choice : rock\n",
      "You win!\n",
      "Your current points are : 1\n",
      "Do you wish to continue again (Y/y for Yes) or (N/n for no): Y\n",
      "Enter your choice (1 for rock, 2 for paper, or 3 for scissors): 3\n",
      "Your choice : scissors\n",
      "Computer's choice : paper\n",
      "You win!\n",
      "Your current points are : 2\n",
      "Do you wish to continue again (Y/y for Yes) or (N/n for no): y\n",
      "Enter your choice (1 for rock, 2 for paper, or 3 for scissors): 2\n",
      "Your choice : paper\n",
      "Computer's choice : paper\n",
      "It's a tie!\n",
      "Your current points are : 2\n",
      "Do you wish to continue again (Y/y for Yes) or (N/n for no): 6\n",
      "Oops! wrong input, Type (Y/y for Yes) or (N/n for no)\n",
      "Do you wish to continue again (Y/y for Yes) or (N/n for no): N\n",
      "Thank you for playing\n",
      "Hope you enjoyed!\n",
      "Your final score is 2\n"
     ]
    }
   ],
   "source": [
    "# Starting the Rock_Paper_Scissors program\n",
    "if __name__ == \"__main__\":\n",
    "    Rock_Paper_Scissors.Game_name()\n",
    "    Rock_Paper_Scissors.rules()\n",
    "    Rock_Paper_Scissors.main_game()"
   ]
  }
 ],
 "metadata": {
  "kernelspec": {
   "display_name": "Python 3 (ipykernel)",
   "language": "python",
   "name": "python3"
  },
  "language_info": {
   "codemirror_mode": {
    "name": "ipython",
    "version": 3
   },
   "file_extension": ".py",
   "mimetype": "text/x-python",
   "name": "python",
   "nbconvert_exporter": "python",
   "pygments_lexer": "ipython3",
   "version": "3.11.5"
  }
 },
 "nbformat": 4,
 "nbformat_minor": 5
}
