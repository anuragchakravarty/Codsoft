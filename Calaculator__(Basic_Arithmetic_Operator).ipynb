{
 "cells": [
  {
   "cell_type": "markdown",
   "id": "1338b42a",
   "metadata": {},
   "source": [
    "# Calculator \n",
    "## Basic Arithmetic Operations."
   ]
  },
  
  {
   "cell_type": "code",
   "execution_count": 2,
   "id": "03b692dd",
   "metadata": {},
   "outputs": [],
   "source": [
    "def calculator():\n",
    "    \n",
    "    # Displaying welcome message\n",
    "    message = \"Welcome to the Calculator Program!\"\n",
    "    print(message)\n",
    "    print('-' * len(message))\n",
    "\n",
    "    while True:\n",
    "        # Displaying the main menu options\n",
    "        print(\"\\nChoose an operation:\\n1. Basic Arithmetic Operations\\n2. Exit\")\n",
    "        \n",
    "        # Getting user choice\n",
    "        choice = input(\"Enter your choice (1/2): \")\n",
    "    \n",
    "        # Checking if the user selected Basic Arithmetic Operations \n",
    "        if choice == \"1\":\n",
    "            \n",
    "            # Displaying arithmetic operation options\n",
    "            print(\"\\nBasic Arithmetic Operations:\\n1. Addition\\n2. Subtraction\\n3. Multiplication\\n4. Division\\n5. Modulo\")\n",
    "            \n",
    "            # Getting user choice for the arithmetic operation\n",
    "            op_choice = input(\"Enter your choice (1/2/3/4/5): \")\n",
    "\n",
    "            # Getting the two numbers from the user\n",
    "            num1 = float(input(\"Enter the first number: \"))\n",
    "            num2 = float(input(\"Enter the second number: \"))\n",
    "\n",
    "            # Performing the chosen arithmetic operation and displaying the result\n",
    "            if op_choice == \"1\":\n",
    "                result = num1 + num2\n",
    "                print(f\"The result is: {num1} + {num2} = {result:.2f}\")\n",
    "            elif op_choice == \"2\":\n",
    "                result = num1 - num2\n",
    "                print(f\"The result is: {num1} - {num2} = {result:.2f}\")\n",
    "            elif op_choice == \"3\":\n",
    "                result = num1 * num2\n",
    "                print(f\"The result is: {num1} * {num2} = {result:.2f}\")\n",
    "            elif op_choice == \"4\":\n",
    "                if num2 != 0:\n",
    "                    result = num1 / num2\n",
    "                    print(f\"The result is: {num1} / {num2} = {result:.2f}\")\n",
    "                else:\n",
    "                    print(\"Error: Division by zero is not allowed!\")\n",
    "            elif op_choice == \"5\":\n",
    "                result = num1 % num2\n",
    "                print(f\"The result is: {num1} % {num2} = {result:.2f}\")\n",
    "\n",
    "\n",
    "        elif choice == \"2\":\n",
    "            print(\"Exiting the Calculator Program. Goodbye!\")\n",
    "            break\n",
    "\n",
    "        else:\n",
    "            print(\"Invalid choice. Please try again!\")"
   ]
  },
  {
   "cell_type": "code",
   "execution_count": 3,
   "id": "f4ad5d08",
   "metadata": {},
   "outputs": [
    {
     "name": "stdout",
     "output_type": "stream",
     "text": [
      "Welcome to the Calculator Program!\n",
      "----------------------------------\n",
      "\n",
      "Choose an operation:\n",
      "1. Basic Arithmetic Operations\n",
      "2. Exit\n",
      "Enter your choice (1/2): 1\n",
      "\n",
      "Basic Arithmetic Operations:\n",
      "1. Addition\n",
      "2. Subtraction\n",
      "3. Multiplication\n",
      "4. Division\n",
      "5. Modulo\n",
      "Enter your choice (1/2/3/4/5): 5\n",
      "Enter the first number: 66\n",
      "Enter the second number: 10\n",
      "The result is: 66.0 % 10.0 = 6.00\n",
      "\n",
      "Choose an operation:\n",
      "1. Basic Arithmetic Operations\n",
      "2. Exit\n",
      "Enter your choice (1/2): 1\n",
      "\n",
      "Basic Arithmetic Operations:\n",
      "1. Addition\n",
      "2. Subtraction\n",
      "3. Multiplication\n",
      "4. Division\n",
      "5. Modulo\n",
      "Enter your choice (1/2/3/4/5): 2\n",
      "Enter the first number: 95.67\n",
      "Enter the second number: 66.83\n",
      "The result is: 95.67 - 66.83 = 28.84\n",
      "\n",
      "Choose an operation:\n",
      "1. Basic Arithmetic Operations\n",
      "2. Exit\n",
      "Enter your choice (1/2): 4\n",
      "Invalid choice. Please try again!\n",
      "\n",
      "Choose an operation:\n",
      "1. Basic Arithmetic Operations\n",
      "2. Exit\n",
      "Enter your choice (1/2): 2\n",
      "Exiting the Calculator Program. Goodbye!\n"
     ]
    }
   ],
   "source": [
    "if __name__ == \"__main__\":\n",
    "    calculator()"
   ]
  }
 ],
 "metadata": {
  "kernelspec": {
   "display_name": "Python 3 (ipykernel)",
   "language": "python",
   "name": "python3"
  },
  "language_info": {
   "codemirror_mode": {
    "name": "ipython",
    "version": 3
   },
   "file_extension": ".py",
   "mimetype": "text/x-python",
   "name": "python",
   "nbconvert_exporter": "python",
   "pygments_lexer": "ipython3",
   "version": "3.11.5"
  }
 },
 "nbformat": 4,
 "nbformat_minor": 5
}
