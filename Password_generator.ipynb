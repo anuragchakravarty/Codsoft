{
 "cells": [
  {
   "cell_type": "markdown",
   "id": "3c27cdec",
   "metadata": {},
   "source": [
    "# Password generator"
   ]
  },
  {
   "cell_type": "code",
   "execution_count": 1,
   "id": "dc8ab8f0",
   "metadata": {},
   "outputs": [],
   "source": [
    "# Importing the random module\n",
    "import random"
   ]
  },
  {
   "cell_type": "code",
   "execution_count": 2,
   "id": "b781bf80",
   "metadata": {},
   "outputs": [],
   "source": [
    "def password_generator():\n",
    "    print(f\"Welcome to password generator program.\\nThis program will help you to generate password\\n\")\n",
    "   \n",
    "    while True:\n",
    "        \n",
    "        # Displaying menu options\n",
    "        print(f\"Choose:\\n1. Generate a password\\n2. Exit\")\n",
    "        \n",
    "        # Getting user choice\n",
    "        user_input = int(input(\"Enter your choice (1/2) : \"))\n",
    "        \n",
    "    \n",
    "        if user_input == 1:\n",
    "            # Getting desired password length from user\n",
    "            user_input2 = int(input(\"Enter the length of your password (5 to 16) : \"))\n",
    "\n",
    "            # Defining character sets for different password strengths\n",
    "            special_char = ['!', '@', '#', '$', '%', '^', '&', '*', '-', '_']\n",
    "            uppercase_alphabets = [chr(i) for i in range(ord('A'), ord('Z') + 1)]\n",
    "            lowercase_alphabets = [chr(i) for i in range(ord('a'), ord('z') + 1)]\n",
    "            numbers = [str(i) for i in range(0, 9)]\n",
    "            \n",
    "            # Combining different lists for generating strong password\n",
    "            strong_password_characters = special_char + uppercase_alphabets + lowercase_alphabets + numbers\n",
    "            \n",
    "            # Combining different lists for generating better password\n",
    "            better_password_characters = lowercase_alphabets + numbers\n",
    "            \n",
    "            if 12 < user_input2 <= 16:\n",
    "                password = generate_strong_password(user_input2, strong_password_characters)\n",
    "                print(f\"You have generated strong password of length {user_input2} : {password}\\n\")\n",
    "                \n",
    "            elif 8 < user_input2 <= 12:\n",
    "                password = generate_better_password(user_input2, better_password_characters)\n",
    "                print(f\"You have generated better password of length {user_input2} : {password}\\n\")\n",
    "                \n",
    "            elif 5 < user_input2 <= 8:\n",
    "                password = generate_weak_password(user_input2, numbers)\n",
    "                print(f\"You have generated weak password of length {user_input2} : {password}\\n\")\n",
    "            \n",
    "            # For Invalid password length\n",
    "            else:\n",
    "                print(\"Please enter a length between 6 to 16 for weak, better, or strong passwords.\\nThank you.\")\n",
    "                \n",
    "        # For exit the program\n",
    "        elif user_input == 2:\n",
    "            print(\"\\nExiting. Thankyou For using my Program.\")\n",
    "            break\n",
    "            \n",
    "        # For Invalid choice\n",
    "        else:\n",
    "            print(\"Please enter valid input.\\n\")"
   ]
  },
  {
   "cell_type": "code",
   "execution_count": 3,
   "id": "ddeafef8",
   "metadata": {},
   "outputs": [],
   "source": [
    "# Function to generate a strong password\n",
    "def generate_strong_password(length, characters):\n",
    "    return ''.join(random.choice(characters) for _ in range(length))"
   ]
  },
  {
   "cell_type": "code",
   "execution_count": 4,
   "id": "b3d42733",
   "metadata": {},
   "outputs": [],
   "source": [
    "# Function to generate a better password\n",
    "def generate_better_password(length, characters):\n",
    "    return ''.join(random.choice(characters) for _ in range(length))"
   ]
  },
  {
   "cell_type": "code",
   "execution_count": 5,
   "id": "bef2bc30",
   "metadata": {},
   "outputs": [],
   "source": [
    "# Function to generate a weak password\n",
    "def generate_weak_password(length, characters):\n",
    "    return ''.join(random.choice(characters) for _ in range(length))"
   ]
  },
  {
   "cell_type": "code",
   "execution_count": 6,
   "id": "9036e821",
   "metadata": {},
   "outputs": [
    {
     "name": "stdout",
     "output_type": "stream",
     "text": [
      "Welcome to password generator program.\n",
      "This program will help you to generate password\n",
      "\n",
      "Choose:\n",
      "1. Generate a password\n",
      "2. Exit\n",
      "Enter your choice (1/2) : 1\n",
      "Enter the length of your password (5 to 16) : 6\n",
      "You have generated weak password of length 6 : 234245\n",
      "\n",
      "Choose:\n",
      "1. Generate a password\n",
      "2. Exit\n",
      "Enter your choice (1/2) : 1\n",
      "Enter the length of your password (5 to 16) : 10\n",
      "You have generated better password of length 10 : vdcn7dix4h\n",
      "\n",
      "Choose:\n",
      "1. Generate a password\n",
      "2. Exit\n",
      "Enter your choice (1/2) : 1\n",
      "Enter the length of your password (5 to 16) : 15\n",
      "You have generated strong password of length 15 : eXG3px&jMVyAl1w\n",
      "\n",
      "Choose:\n",
      "1. Generate a password\n",
      "2. Exit\n",
      "Enter your choice (1/2) : 4\n",
      "Please enter valid input.\n",
      "\n",
      "Choose:\n",
      "1. Generate a password\n",
      "2. Exit\n",
      "Enter your choice (1/2) : 2\n",
      "\n",
      "Exiting. Thankyou For using my Program.\n"
     ]
    }
   ],
   "source": [
    "# Starting the password generator program\n",
    "password_generator()"
   ]
  }
 ],
 "metadata": {
  "kernelspec": {
   "display_name": "Python 3 (ipykernel)",
   "language": "python",
   "name": "python3"
  },
  "language_info": {
   "codemirror_mode": {
    "name": "ipython",
    "version": 3
   },
   "file_extension": ".py",
   "mimetype": "text/x-python",
   "name": "python",
   "nbconvert_exporter": "python",
   "pygments_lexer": "ipython3",
   "version": "3.11.5"
  }
 },
 "nbformat": 4,
 "nbformat_minor": 5
}
